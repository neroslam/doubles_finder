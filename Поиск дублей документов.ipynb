{
 "cells": [
  {
   "cell_type": "code",
   "execution_count": 2,
   "metadata": {},
   "outputs": [],
   "source": [
    "import pickle\n",
    "import pymorphy2\n",
    "import numpy as np\n",
    "\n",
    "from sklearn.feature_extraction.text import TfidfVectorizer\n",
    "from sklearn import random_projection\n",
    "from sklearn.metrics import pairwise_distances\n",
    "from sklearn.metrics.pairwise import cosine_distances\n",
    "\n",
    "morph = pymorphy2.MorphAnalyzer()\n",
    "morph_dct = {}"
   ]
  },
  {
   "cell_type": "code",
   "execution_count": 3,
   "metadata": {},
   "outputs": [],
   "source": [
    "def preprocess_text(text):\n",
    "    text = text.lower()\n",
    "    text = text.replace('\\r', ' ').replace('\\n', ' ')\n",
    "    text  = only_valid_symb(text)\n",
    "    norm_text = only_valid_forms(text)\n",
    "    return norm_text\n",
    "    \n",
    "    \n",
    "def only_valid_symb(text: str)-> str:\n",
    "    valid = set('йцукенгшщзхъфывапролджэячсмитьбюё ')\n",
    "    txt =  ''.join(x for x in text if x in valid)\n",
    "    while '  ' in txt:\n",
    "        txt = txt.replace('  ', ' ')\n",
    "    return txt.strip()\n",
    "\n",
    "def only_valid_forms(text)->str:\n",
    "    filter_forms = {'ADJF', 'ADJS', 'COMP', 'NUMR', 'NPRO', 'PREP', 'CONJ', 'PRCL', 'INTJ'}\n",
    "    lst = []\n",
    "    for word in text.split():\n",
    "        tag = morph_parse(word)\n",
    "        if any([x in tag.tag for x in filter_forms]):\n",
    "            continue\n",
    "        lst.append(tag.normal_form)\n",
    "    return ' '.join(lst)\n",
    "   \n",
    "def morph_parse(word:str)->str:\n",
    "    if word not in morph_dct:\n",
    "        tag = morph.parse(word)[0]\n",
    "        morph_dct[word] = tag\n",
    "    return morph_dct[word]"
   ]
  },
  {
   "cell_type": "markdown",
   "metadata": {},
   "source": [
    "### Sample of data"
   ]
  },
  {
   "cell_type": "code",
   "execution_count": null,
   "metadata": {},
   "outputs": [],
   "source": [
    "# data = [{'fulltext':'FULLTEXT',\n",
    "#            'title': 'TITLE', \n",
    "#            'url': 'URL'},\n",
    "#           {'fulltext':'FULLTEXT',\n",
    "#            'title': 'TITLE', \n",
    "#            'url': 'URL'}]"
   ]
  },
  {
   "cell_type": "code",
   "execution_count": 5,
   "metadata": {},
   "outputs": [
    {
     "name": "stdout",
     "output_type": "stream",
     "text": [
      "CPU times: user 6min 50s, sys: 3.19 s, total: 6min 53s\n",
      "Wall time: 6min 54s\n"
     ]
    }
   ],
   "source": [
    "%%time\n",
    "f  =open(_SOURCE, 'rb')\n",
    "data = pickle.load(f)\n",
    "_text = [preprocess_text(x['fulltext']) for x in data if x['fulltext']!='']\n",
    "len(_text)"
   ]
  },
  {
   "cell_type": "code",
   "execution_count": 7,
   "metadata": {},
   "outputs": [
    {
     "data": {
      "text/plain": [
       "(57133, 67288)"
      ]
     },
     "execution_count": 7,
     "metadata": {},
     "output_type": "execute_result"
    }
   ],
   "source": [
    "vectorized = TfidfVectorizer(min_df=2).fit_transform(_text)\n",
    "vectorized.shape"
   ]
  },
  {
   "cell_type": "code",
   "execution_count": 8,
   "metadata": {},
   "outputs": [],
   "source": [
    "X = random_projection.GaussianRandomProjection(n_components=100).fit_transform(vectorized)\n",
    "__X = np.ceil(X)"
   ]
  },
  {
   "cell_type": "code",
   "execution_count": 9,
   "metadata": {},
   "outputs": [],
   "source": [
    "dist = pairwise_distances(__X, metric='cosine')\n",
    "np.fill_diagonal(dist, 1)"
   ]
  },
  {
   "cell_type": "code",
   "execution_count": null,
   "metadata": {},
   "outputs": [],
   "source": [
    "pairs = set()\n",
    "for x, y in np.argwhere(dist<0.15):\n",
    "    pairs.add(tuple(sorted([x, y])))"
   ]
  },
  {
   "cell_type": "code",
   "execution_count": null,
   "metadata": {},
   "outputs": [],
   "source": [
    "print(pairs)"
   ]
  }
 ],
 "metadata": {
  "kernelspec": {
   "display_name": "Python 3",
   "language": "python",
   "name": "python3"
  },
  "language_info": {
   "codemirror_mode": {
    "name": "ipython",
    "version": 3
   },
   "file_extension": ".py",
   "mimetype": "text/x-python",
   "name": "python",
   "nbconvert_exporter": "python",
   "pygments_lexer": "ipython3",
   "version": "3.4.5"
  }
 },
 "nbformat": 4,
 "nbformat_minor": 2
}
